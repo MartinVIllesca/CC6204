{
  "nbformat": 4,
  "nbformat_minor": 0,
  "metadata": {
    "kernelspec": {
      "display_name": "Python 3",
      "language": "python",
      "name": "python3"
    },
    "language_info": {
      "codemirror_mode": {
        "name": "ipython",
        "version": 3
      },
      "file_extension": ".py",
      "mimetype": "text/x-python",
      "name": "python",
      "nbconvert_exporter": "python",
      "pygments_lexer": "ipython3",
      "version": "3.6.6"
    },
    "colab": {
      "name": "stanford-dogs-keras-vgg16.ipynb",
      "provenance": [],
      "include_colab_link": true
    },
    "accelerator": "GPU"
  },
  "cells": [
    {
      "cell_type": "markdown",
      "metadata": {
        "id": "view-in-github",
        "colab_type": "text"
      },
      "source": [
        "<a href=\"https://colab.research.google.com/github/MartinVIllesca/Ramos-Redes/blob/master/taller%20de%20proyecto/stanford-dogs-keras-vgg16(1).ipynb\" target=\"_parent\"><img src=\"https://colab.research.google.com/assets/colab-badge.svg\" alt=\"Open In Colab\"/></a>"
      ]
    },
    {
      "cell_type": "code",
      "metadata": {
        "id": "X7zYe2LhxIdb",
        "colab_type": "code",
        "colab": {}
      },
      "source": [
        "# from google.colab import drive\n",
        "# drive.mount('/content/drive')"
      ],
      "execution_count": 0,
      "outputs": []
    },
    {
      "cell_type": "code",
      "metadata": {
        "id": "uaxD9lbN03tk",
        "colab_type": "code",
        "colab": {}
      },
      "source": [
        "# !tar -xvf '/content/drive/My Drive/data_EL5003/images.tar'"
      ],
      "execution_count": 0,
      "outputs": []
    },
    {
      "cell_type": "code",
      "metadata": {
        "_cell_guid": "79c7e3d0-c299-4dcb-8224-4455121ee9b0",
        "_uuid": "d629ff2d2480ee46fbb7e2d37f6b5fab8052498a",
        "id": "oiJThy61tsCG",
        "colab_type": "code",
        "outputId": "3c33cfdc-dd6b-46d7-ec3b-74882bb9b0f2",
        "colab": {
          "base_uri": "https://localhost:8080/",
          "height": 34
        }
      },
      "source": [
        "#-------Import Dependencies-------#\n",
        "%matplotlib inline\n",
        "import pandas as pd\n",
        "import os,shutil,math,scipy,cv2\n",
        "import numpy as np\n",
        "import matplotlib.pyplot as plt\n",
        "import random as rn\n",
        "\n",
        "\n",
        "from sklearn.utils import shuffle\n",
        "from sklearn.metrics import classification_report\n",
        "from sklearn.model_selection import train_test_split\n",
        "from sklearn.preprocessing import LabelEncoder\n",
        "from sklearn.metrics import confusion_matrix,roc_curve,auc\n",
        "\n",
        "from PIL import Image\n",
        "from PIL import Image as pil_image\n",
        "from PIL import ImageDraw\n",
        "\n",
        "from time import time\n",
        "from glob import glob\n",
        "from tqdm import tqdm\n",
        "from skimage.io import imread\n",
        "from IPython.display import SVG\n",
        "\n",
        "from scipy import misc,ndimage\n",
        "from scipy.ndimage.interpolation import zoom\n",
        "# hay problemas con esta libreria\n",
        "# from scipy.ndimage import imread\n",
        "\n",
        "import keras\n",
        "from keras import backend as K\n",
        "from keras.utils.np_utils import to_categorical\n",
        "from keras import layers\n",
        "from keras.preprocessing.image import save_img\n",
        "from keras.utils.vis_utils import model_to_dot\n",
        "from keras.applications.vgg16 import VGG16,preprocess_input\n",
        "from keras.applications.xception import Xception\n",
        "from keras.applications.nasnet import NASNetMobile\n",
        "from keras.models import Sequential,Input,Model\n",
        "from keras.layers import Dense,Flatten,Dropout,Concatenate,GlobalAveragePooling2D,Lambda,ZeroPadding2D\n",
        "from keras.layers import SeparableConv2D,BatchNormalization,MaxPooling2D,Conv2D\n",
        "from keras.preprocessing.image import ImageDataGenerator\n",
        "from keras.optimizers import Adam,SGD\n",
        "from keras.utils.vis_utils import plot_model\n",
        "from keras.callbacks import ModelCheckpoint,EarlyStopping,TensorBoard,CSVLogger,ReduceLROnPlateau,LearningRateScheduler"
      ],
      "execution_count": 3,
      "outputs": [
        {
          "output_type": "stream",
          "text": [
            "Using TensorFlow backend.\n"
          ],
          "name": "stderr"
        }
      ]
    },
    {
      "cell_type": "code",
      "metadata": {
        "id": "UPaB6MME3VK5",
        "colab_type": "code",
        "colab": {}
      },
      "source": [
        "from os import listdir, walk, path"
      ],
      "execution_count": 0,
      "outputs": []
    },
    {
      "cell_type": "code",
      "metadata": {
        "_uuid": "b3b329542117805842c5144474ba6425d9ee4509",
        "id": "7LnDsCy2tsCM",
        "colab_type": "code",
        "colab": {}
      },
      "source": [
        "def show_final_history(history):\n",
        "    fig, ax = plt.subplots(1, 2, figsize=(15,5))\n",
        "    ax[0].set_title('loss')\n",
        "    ax[0].plot(history.epoch, history.history[\"loss\"], label=\"Train loss\")\n",
        "    ax[0].plot(history.epoch, history.history[\"val_loss\"], label=\"Validation loss\")\n",
        "    ax[1].set_title('acc')\n",
        "    ax[1].plot(history.epoch, history.history[\"acc\"], label=\"Train acc\")\n",
        "    ax[1].plot(history.epoch, history.history[\"val_acc\"], label=\"Validation acc\")\n",
        "    ax[0].legend()\n",
        "    ax[1].legend()"
      ],
      "execution_count": 0,
      "outputs": []
    },
    {
      "cell_type": "code",
      "metadata": {
        "_uuid": "a8a22d8807b950a1fa632ce79919c10fb4d7b652",
        "id": "1fXhHYj9tsCQ",
        "colab_type": "code",
        "colab": {}
      },
      "source": [
        "def label_assignment(img,label):\n",
        "    return label\n",
        "\n",
        "def training_data(label,data_dir):\n",
        "  x = []\n",
        "  y = []\n",
        "  for img in tqdm(os.listdir(data_dir)):\n",
        "      label = label_assignment(img,label)\n",
        "      path = os.path.join(data_dir,img)\n",
        "      img = cv2.imread(path,cv2.IMREAD_COLOR)\n",
        "      img = cv2.resize(img,(imgsize,imgsize))\n",
        "      img = (np.array(img) / 255).astype('float32')\n",
        "      x.append(np.array(img))\n",
        "      y.append(str(label))\n",
        "\n",
        "  return np.array(x), y"
      ],
      "execution_count": 0,
      "outputs": []
    },
    {
      "cell_type": "code",
      "metadata": {
        "id": "ZK0DmBjH217W",
        "colab_type": "code",
        "colab": {}
      },
      "source": [
        "def read_data(n):\n",
        "  F = []\n",
        "  Y = []\n",
        "\n",
        "  for idx, f in enumerate(listdir('./Images')):\n",
        "    if idx == n: break\n",
        "    y_ = f[10:]\n",
        "    print('\\r',y_)\n",
        "    F.append(f)\n",
        "    Y.append(y_)\n",
        "\n",
        "  return Y, F"
      ],
      "execution_count": 0,
      "outputs": []
    },
    {
      "cell_type": "code",
      "metadata": {
        "_uuid": "0c21e3373315938288087bab7c4158e0a1a3b5dd",
        "id": "5OGURAUotsCU",
        "colab_type": "code",
        "colab": {}
      },
      "source": [
        "X = []\n",
        "Z = []\n",
        "Y = []\n",
        "imgsize = 150\n",
        "n_classes = 100"
      ],
      "execution_count": 0,
      "outputs": []
    },
    {
      "cell_type": "code",
      "metadata": {
        "id": "R3pq8hku4NS1",
        "colab_type": "code",
        "colab": {
          "base_uri": "https://localhost:8080/",
          "height": 1000
        },
        "outputId": "1559a68a-a4e6-43fd-fd48-2dec6a26823f"
      },
      "source": [
        "labels, files = read_data(n_classes)\n",
        "n_classes = len(files)\n",
        "for n in range(n_classes):\n",
        "  x, y_ = training_data(labels[n], path.join('./Images/', files[n]))\n",
        "  y = np.ones((len(y_),))*n\n",
        "  if n == 0:\n",
        "    X = x\n",
        "    Z = y_\n",
        "    Y = y\n",
        "  else:\n",
        "    X = np.concatenate([X, x])\n",
        "    Z = np.concatenate([Z, y_])\n",
        "    Y = np.concatenate([Y, y])\n",
        "X = np.array(X)\n",
        "print(X.shape, Y.shape, Z.shape)"
      ],
      "execution_count": 0,
      "outputs": [
        {
          "output_type": "stream",
          "text": [
            " 17%|█▋        | 34/206 [00:00<00:00, 338.26it/s]"
          ],
          "name": "stderr"
        },
        {
          "output_type": "stream",
          "text": [
            "\r Tibetan_terrier\n",
            "\r Italian_greyhound\n",
            "\r Norfolk_terrier\n",
            "\r Kerry_blue_terrier\n",
            "\r Doberman\n",
            "\r Siberian_husky\n",
            "\r Sealyham_terrier\n",
            "\r West_Highland_white_terrier\n",
            "\r dhole\n",
            "\r Weimaraner\n",
            "\r schipperke\n",
            "\r Appenzeller\n",
            "\r malinois\n",
            "\r redbone\n",
            "\r Irish_water_spaniel\n",
            "\r bull_mastiff\n",
            "\r Labrador_retriever\n",
            "\r Mexican_hairless\n",
            "\r golden_retriever\n",
            "\r whippet\n",
            "\r collie\n",
            "\r Border_collie\n",
            "\r Saint_Bernard\n",
            "\r miniature_schnauzer\n",
            "\r Bouvier_des_Flandres\n",
            "\r Border_terrier\n",
            "\r Pekinese\n",
            "\r Dandie_Dinmont\n",
            "\r Chesapeake_Bay_retriever\n",
            "\r wire-haired_fox_terrier\n",
            "\r beagle\n",
            "\r Lakeland_terrier\n",
            "\r kuvasz\n",
            "\r German_shepherd\n",
            "\r Samoyed\n",
            "\r groenendael\n",
            "\r Australian_terrier\n",
            "\r pug\n",
            "\r Ibizan_hound\n",
            "\r miniature_poodle\n",
            "\r affenpinscher\n",
            "\r Newfoundland\n",
            "\r Gordon_setter\n",
            "\r malamute\n",
            "\r Bedlington_terrier\n",
            "\r English_foxhound\n",
            "\r Sussex_spaniel\n",
            "\r curly-coated_retriever\n",
            "\r EntleBucher\n",
            "\r American_Staffordshire_terrier\n",
            "\r cocker_spaniel\n",
            "\r cairn\n",
            "\r silky_terrier\n",
            "\r Cardigan\n",
            "\r Rhodesian_ridgeback\n",
            "\r basset\n",
            "\r Welsh_springer_spaniel\n",
            "\r Irish_wolfhound\n",
            "\r Boston_bull\n",
            "\r black-and-tan_coonhound\n",
            "\r dingo\n",
            "\r Great_Dane\n",
            "\r Afghan_hound\n",
            "\r Maltese_dog\n",
            "\r basenji\n",
            "\r Japanese_spaniel\n",
            "\r chow\n",
            "\r standard_schnauzer\n",
            "\r komondor\n",
            "\r Leonberg\n",
            "\r Pembroke\n",
            "\r otterhound\n",
            "\r Staffordshire_bullterrier\n",
            "\r Tibetan_mastiff\n",
            "\r flat-coated_retriever\n",
            "\r miniature_pinscher\n",
            "\r French_bulldog\n",
            "\r briard\n",
            "\r papillon\n",
            "\r kelpie\n",
            "\r English_springer\n",
            "\r borzoi\n",
            "\r Scotch_terrier\n",
            "\r Blenheim_spaniel\n",
            "\r toy_poodle\n",
            "\r German_short-haired_pointer\n",
            "\r clumber\n",
            "\r Bernese_mountain_dog\n",
            "\r Walker_hound\n",
            "\r Old_English_sheepdog\n",
            "\r toy_terrier\n",
            "\r Pomeranian\n",
            "\r bluetick\n",
            "\r Lhasa\n",
            "\r keeshond\n",
            "\r soft-coated_wheaten_terrier\n",
            "\r Scottish_deerhound\n",
            "\r Saluki\n",
            "\r giant_schnauzer\n",
            "\r Irish_terrier\n"
          ],
          "name": "stdout"
        },
        {
          "output_type": "stream",
          "text": [
            "100%|██████████| 206/206 [00:00<00:00, 310.42it/s]\n",
            "100%|██████████| 182/182 [00:00<00:00, 307.85it/s]\n",
            "100%|██████████| 172/172 [00:00<00:00, 348.77it/s]\n",
            "100%|██████████| 179/179 [00:00<00:00, 332.93it/s]\n",
            "100%|██████████| 150/150 [00:00<00:00, 276.81it/s]\n",
            "100%|██████████| 192/192 [00:00<00:00, 320.68it/s]\n",
            "100%|██████████| 202/202 [00:00<00:00, 404.99it/s]\n",
            "100%|██████████| 169/169 [00:00<00:00, 317.32it/s]\n",
            "100%|██████████| 150/150 [00:00<00:00, 289.78it/s]\n",
            "100%|██████████| 160/160 [00:00<00:00, 309.18it/s]\n",
            "100%|██████████| 154/154 [00:00<00:00, 303.97it/s]\n",
            "100%|██████████| 151/151 [00:00<00:00, 316.01it/s]\n",
            "100%|██████████| 150/150 [00:00<00:00, 299.07it/s]\n",
            "100%|██████████| 148/148 [00:00<00:00, 325.07it/s]\n",
            "100%|██████████| 150/150 [00:00<00:00, 220.29it/s]\n",
            "100%|██████████| 156/156 [00:00<00:00, 311.08it/s]\n",
            "100%|██████████| 171/171 [00:00<00:00, 314.90it/s]\n",
            "100%|██████████| 155/155 [00:00<00:00, 351.53it/s]\n",
            "100%|██████████| 150/150 [00:00<00:00, 277.64it/s]\n",
            "100%|██████████| 187/187 [00:00<00:00, 297.95it/s]\n",
            "100%|██████████| 153/153 [00:00<00:00, 308.03it/s]\n",
            "100%|██████████| 150/150 [00:00<00:00, 291.50it/s]\n",
            "100%|██████████| 170/170 [00:00<00:00, 291.38it/s]\n",
            "100%|██████████| 154/154 [00:00<00:00, 282.70it/s]\n",
            "100%|██████████| 150/150 [00:00<00:00, 271.47it/s]\n",
            "100%|██████████| 172/172 [00:00<00:00, 301.15it/s]\n",
            "100%|██████████| 149/149 [00:00<00:00, 318.80it/s]\n",
            "100%|██████████| 180/180 [00:00<00:00, 321.33it/s]\n",
            "100%|██████████| 167/167 [00:00<00:00, 291.58it/s]\n",
            "100%|██████████| 157/157 [00:00<00:00, 393.43it/s]\n",
            "100%|██████████| 195/195 [00:00<00:00, 273.61it/s]\n",
            "100%|██████████| 197/197 [00:00<00:00, 265.69it/s]\n",
            "100%|██████████| 150/150 [00:00<00:00, 283.42it/s]\n",
            "100%|██████████| 152/152 [00:00<00:00, 279.00it/s]\n",
            "100%|██████████| 218/218 [00:00<00:00, 326.86it/s]\n",
            "100%|██████████| 150/150 [00:00<00:00, 327.93it/s]\n",
            "100%|██████████| 196/196 [00:00<00:00, 350.92it/s]\n",
            "100%|██████████| 200/200 [00:00<00:00, 316.90it/s]\n",
            "100%|██████████| 188/188 [00:00<00:00, 331.38it/s]"
          ],
          "name": "stderr"
        }
      ]
    },
    {
      "cell_type": "code",
      "metadata": {
        "_uuid": "6645009ce15af53646b2c5c068b16ad34981b32b",
        "id": "eDs08oZutsCb",
        "colab_type": "code",
        "colab": {}
      },
      "source": [
        "# label_encoder= LabelEncoder()\n",
        "# Y = label_encoder.fit_transform(Z)\n",
        "# Y = to_categorical(Y,n_classes)\n",
        "Y = Y.astype(int)\n",
        "# X = np.array(X)\n",
        "# X=X/255\n"
      ],
      "execution_count": 0,
      "outputs": []
    },
    {
      "cell_type": "code",
      "metadata": {
        "id": "i0ThwvDzSoZQ",
        "colab_type": "code",
        "colab": {}
      },
      "source": [
        ""
      ],
      "execution_count": 0,
      "outputs": []
    },
    {
      "cell_type": "code",
      "metadata": {
        "_uuid": "524ad38c7c4952197742756a87c712e54f0e598f",
        "scrolled": true,
        "id": "l44QO7y2tsCl",
        "colab_type": "code",
        "colab": {}
      },
      "source": [
        "fig,ax=plt.subplots(5,2)\n",
        "fig.set_size_inches(15,15)\n",
        "for i in range(5):\n",
        "    for j in range (2):\n",
        "        l=rn.randint(0,len(X) - 1)\n",
        "        ax[i,j].imshow(X[l])\n",
        "        ax[i,j].set_title('Dog: '+Z[l] + ' ' + str(Y[l]))\n",
        "        \n",
        "plt.tight_layout()"
      ],
      "execution_count": 0,
      "outputs": []
    },
    {
      "cell_type": "code",
      "metadata": {
        "_uuid": "8ac2c945856a9bbcce4be1358c76e87abf9178ed",
        "id": "vVl-wYPntsCo",
        "colab_type": "code",
        "colab": {}
      },
      "source": [
        "base_model = VGG16(include_top=False,\n",
        "                  input_shape = (150,150,3),\n",
        "                  weights = 'imagenet')\n",
        "\n",
        "for layer in base_model.layers:\n",
        "    layer.trainable = False\n",
        "    \n",
        "for layer in base_model.layers:\n",
        "    print(layer,layer.trainable)\n",
        "\n",
        "model = Sequential()\n",
        "model.add(base_model)\n",
        "model.add(GlobalAveragePooling2D())\n",
        "# model.add(Flatten())\n",
        "model.add(Dropout(0.2))\n",
        "model.add(Dense(n_classes,activation='softmax'))\n",
        "model.summary()\n",
        "\n",
        "SVG(model_to_dot(model).create(prog='dot', format='svg'))\n",
        "plot_model(model, to_file='model_plot.png', show_shapes=True, show_layer_names=True, expand_nested=True)"
      ],
      "execution_count": 0,
      "outputs": []
    },
    {
      "cell_type": "code",
      "metadata": {
        "_uuid": "87bebfd0e9ce813e0b7ca38d7bdc05ba0f899fac",
        "id": "3jp57uSJtsCv",
        "colab_type": "code",
        "colab": {}
      },
      "source": [
        "#-----------Optimizers-----------#\n",
        "opt = SGD(lr=1e-4,momentum=0.99)\n",
        "opt1 = Adam(lr=1e-2)\n",
        "#----------Compile---------------#\n",
        "model.compile(\n",
        "    loss=keras.losses.SparseCategoricalCrossentropy(),\n",
        "    optimizer='adam',\n",
        "    metrics=['accuracy']\n",
        ")"
      ],
      "execution_count": 0,
      "outputs": []
    },
    {
      "cell_type": "code",
      "metadata": {
        "id": "PV7oZ0w6Hd_Y",
        "colab_type": "code",
        "colab": {}
      },
      "source": [
        "model.fit(X, Y,\n",
        "          batch_size=32,\n",
        "          epochs=50,\n",
        "          validation_split=0.2)"
      ],
      "execution_count": 0,
      "outputs": []
    },
    {
      "cell_type": "code",
      "metadata": {
        "_uuid": "7db74b4dd50613ae264f3de7e7ca2a7190d58a8d",
        "id": "ZiV6Z1jRtsCz",
        "colab_type": "code",
        "colab": {}
      },
      "source": [
        "# show_final_history(history)\n",
        "# model.load_weights('/content/drive/My Drive/data_EL5003/model/model.h5')\n",
        "# model_score = model.evaluate(X,Y)\n",
        "# print(\"Model Test Loss:\",model_score[0])\n",
        "# print(\"Model Test Accuracy:\",model_score[1])\n",
        "# model.predict(X)"
      ],
      "execution_count": 0,
      "outputs": []
    },
    {
      "cell_type": "code",
      "metadata": {
        "_uuid": "42ab6a8bcc8ca65f5e20e165ae862d9f5b1d8719",
        "id": "YA9BIAzStsC6",
        "colab_type": "code",
        "colab": {}
      },
      "source": [
        ""
      ],
      "execution_count": 0,
      "outputs": []
    }
  ]
}